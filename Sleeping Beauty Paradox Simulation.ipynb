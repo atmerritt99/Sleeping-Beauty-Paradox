{
 "cells": [
  {
   "cell_type": "code",
   "execution_count": 38,
   "id": "e2e2511c",
   "metadata": {},
   "outputs": [
    {
     "name": "stdout",
     "output_type": "stream",
     "text": [
      "Enter probability that Sleeping Beauty should guess heads >> 0\n",
      "\n",
      "On average, Sleeping Beauty predicted the coin flip 66.67% of the time\n",
      "On average, Sleeping Beauty would have made $0.50\n"
     ]
    }
   ],
   "source": [
    "import random\n",
    "\n",
    "class SleepingBeauty:\n",
    "    \n",
    "    def __init__(self, chance_of_choosing_heads):\n",
    "        self.chance_of_choosing_heads = chance_of_choosing_heads\n",
    "     \n",
    "    #Returns True IF Sleeping Beauty choose heads\n",
    "    def choose_heads_or_tails(self):\n",
    "        return random.random() < self.chance_of_choosing_heads\n",
    "    \n",
    "class SleepingBeautyParadox:\n",
    "    \n",
    "    def __init__(self, sleeping_beauty):\n",
    "        self.sleeping_beauty = sleeping_beauty\n",
    "        \n",
    "    # Returns (total number of times sleeping beauty got the answer correct, total number of days experiement lasted)\n",
    "    def run_experiement(self):\n",
    "        \n",
    "        coin_flip = random.random() < .5\n",
    "        guesses_correct = 0\n",
    "        number_of_days_experiement_took = 1\n",
    "        mondays_guess = self.sleeping_beauty.choose_heads_or_tails()\n",
    "        \n",
    "        if coin_flip:\n",
    "            if mondays_guess:\n",
    "                guesses_correct += 1\n",
    "        else:\n",
    "            number_of_days_experiement_took = 2\n",
    "            tuesdays_guess = self.sleeping_beauty.choose_heads_or_tails()\n",
    "            \n",
    "            if not mondays_guess:\n",
    "                guesses_correct += 1\n",
    "                \n",
    "            if not tuesdays_guess:\n",
    "                guesses_correct += 1\n",
    "                \n",
    "        return (guesses_correct, number_of_days_experiement_took)\n",
    "\n",
    "user_input = input(\"Enter probability that Sleeping Beauty should guess heads >> \")\n",
    "\n",
    "while not ((user_input[1:].isdigit() and user_input[0] == \".\") or user_input == \"1\" or user_input == \"0\"):\n",
    "    print(f\"\\n{user_input} is not a valid input\\n\")\n",
    "    user_input = input(\"Enter probability that Sleeping Beauty should guess heads >> \")\n",
    "\n",
    "print()\n",
    "probability_sleeping_beauty_chooses_heads = float(user_input)\n",
    "    \n",
    "number_of_simulations = 10 ** 7 #10 million simulations\n",
    "total_payout = 0\n",
    "total_guesses_correct = 0\n",
    "total_number_of_days_experiment_took = 0\n",
    "sleeping_beauty = SleepingBeauty(probability_sleeping_beauty_chooses_heads)\n",
    "sleeping_beauty_paradox = SleepingBeautyParadox(sleeping_beauty)\n",
    "for i in range(number_of_simulations):\n",
    "    x = sleeping_beauty_paradox.run_experiement()\n",
    "    total_payout += x[0] / x[1]\n",
    "    total_guesses_correct += x[0]\n",
    "    total_number_of_days_experiment_took += x[1]\n",
    "     \n",
    "#using .format method to print upto decimal point\n",
    "formatted_payout = \"{:.{}f}\".format(round(total_payout / number_of_simulations, 2), 2)\n",
    "    \n",
    "# Calculating the number of times Sleeping Beauty guesses correctly\n",
    "print(f\"On average, Sleeping Beauty predicted the coin flip {round(total_guesses_correct / total_number_of_days_experiment_took * 100, 2)}% of the time\")\n",
    "# If Sleeping beauty got paid $1 for every time they predicted heads and the coin flip was heads\n",
    "# And paid $0.50 for every time they predicted tails and the coin flip was tails\n",
    "# How much money on average would they make?\n",
    "print(f\"On average, Sleeping Beauty would have made ${formatted_payout}\")"
   ]
  },
  {
   "cell_type": "code",
   "execution_count": null,
   "id": "5047a4db",
   "metadata": {},
   "outputs": [],
   "source": []
  }
 ],
 "metadata": {
  "kernelspec": {
   "display_name": "Python 3 (ipykernel)",
   "language": "python",
   "name": "python3"
  },
  "language_info": {
   "codemirror_mode": {
    "name": "ipython",
    "version": 3
   },
   "file_extension": ".py",
   "mimetype": "text/x-python",
   "name": "python",
   "nbconvert_exporter": "python",
   "pygments_lexer": "ipython3",
   "version": "3.11.1"
  }
 },
 "nbformat": 4,
 "nbformat_minor": 5
}
